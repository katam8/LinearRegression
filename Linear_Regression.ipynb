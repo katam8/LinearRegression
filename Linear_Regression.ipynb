{
 "cells": [
  {
   "cell_type": "markdown",
   "metadata": {},
   "source": [
    "# Introduction\n",
    "\n",
    "Linear regression generally have the form of $Y_{i} = \\theta_{0} + \\theta_{1} x_{1} + \\theta_{2} x_{2} + ...$ <br>\n",
    "There are several ways to find the coefficients of the regression: <br>\n",
    "1. Linear Algebra: $\\hat{\\theta} = (X^{T}X)^{-1}X^{T}Y$ (When X is invertible) <br>\n",
    "2. Gradient Descent: In this case, we need to write out the loss function and try to minimize the loss. <br>\n",
    "$\\hspace{30mm}$ $F(x)$ = Loss Function = MSE = $ \\frac{1}{n}\\sum^{n}_{i=1} (Y_{i} - \\hat{Y_{i}})^{2}$ <br>\n",
    "\n",
    "In this part of the assignment, we will be using the second way to implement this linear regression model. More details about the model's implementation can be found in corresponding lectures.\n",
    "\n",
    "### <font color='red'>ATTENTION: THERE ARE A TOTAL OF 4 QUESTIONS THAT NEED YOUR ANSWERS</font>"
   ]
  },
  {
   "cell_type": "markdown",
   "metadata": {},
   "source": [
    "## Import necessary packages\n",
    "\n",
    "You'll be implement your model in `LinearRegression.py` which should be put under the same directory as the location of `Linear_Regression.ipynb`. Since we have enabled `autoreload`, you only need to import these packages once. You don't need to restart the kernel of this notebook nor rerun the next cell even if you change your implementation for `LinearRegression.py` in the meantime.\n",
    "\n",
    "A suggestion for better productivity if you never used jupyter notebook + python script together: you can split your screen into left and right parts, and have your left part displaying this notebook and have your right part displaying your `LinearRegression.py`"
   ]
  },
  {
   "cell_type": "code",
   "execution_count": 2,
   "metadata": {},
   "outputs": [
    {
     "name": "stdout",
     "output_type": "stream",
     "text": [
      "The autoreload extension is already loaded. To reload it, use:\n",
      "  %reload_ext autoreload\n"
     ]
    }
   ],
   "source": [
    "# Please do not change this code block\n",
    "%load_ext autoreload\n",
    "%autoreload 2\n",
    "\n",
    "# import numpy, pandas, pyplot for arrays, dataframes, and visualizations\n",
    "import numpy as np\n",
    "import pandas as pd\n",
    "import matplotlib.pyplot as plt\n",
    "\n",
    "# import sklearn model to validate our custom model\n",
    "from sklearn.preprocessing import MinMaxScaler\n",
    "from sklearn.linear_model import LinearRegression\n",
    "from sklearn.model_selection import train_test_split\n",
    "\n",
    "# Please make sure that your `LinearRegression.py` is under the same folder as this .ipynb notebook\n",
    "from LinearRegression import Linear_Regression"
   ]
  },
  {
   "cell_type": "markdown",
   "metadata": {},
   "source": [
    "# Experiment 1: Perfect Data\n",
    "\n",
    "In this part, we generate a dataset with a perfect linear relationship to test our model's performance. Here, we use the equation: $y = 5x + 10$ to generate our dataset."
   ]
  },
  {
   "cell_type": "code",
   "execution_count": 3,
   "metadata": {},
   "outputs": [
    {
     "data": {
      "text/plain": [
       "'x = [ 1  6 11 16 21], y = [ 15  40  65  90 115] for the first 5 values'"
      ]
     },
     "execution_count": 3,
     "metadata": {},
     "output_type": "execute_result"
    }
   ],
   "source": [
    "X = np.array([np.arange(1, 1000, 5)]).T\n",
    "y = np.array((5 * X)).flatten() +  10\n",
    "f'x = {X[:5].flatten()}, y = {y[:5]} for the first 5 values'"
   ]
  },
  {
   "cell_type": "markdown",
   "metadata": {},
   "source": [
    "First, let's try to fit our model without any normalization (note: the below cell block could take significant amount of time to complete)"
   ]
  },
  {
   "cell_type": "code",
   "execution_count": 4,
   "metadata": {},
   "outputs": [
    {
     "name": "stdout",
     "output_type": "stream",
     "text": [
      "Start Training\n",
      "-----------------------\n",
      "Iteration: 0\n",
      "Coef: [[0.72438286]\n",
      " [0.53004488]]\n",
      "Loss: 2681610957280.45\n",
      "-----------------------\n",
      "Iteration: 1000000\n",
      "Coef: [[5.00923194]\n",
      " [3.86893572]]\n",
      "Loss: 9.440100138503865\n",
      "-----------------------\n",
      "Iteration: 2000000\n",
      "Coef: [[5.00597927]\n",
      " [6.02803155]]\n",
      "Loss: 3.96197611770172\n",
      "-----------------------\n",
      "Iteration: 3000000\n",
      "Coef: [[5.00387402]\n",
      " [7.42678644]]\n",
      "Loss: 1.662848982070066\n",
      "-----------------------\n",
      "Iteration: 4000000\n",
      "Coef: [[5.00251032]\n",
      " [8.33296025]]\n",
      "Loss: 0.6979040090072992\n",
      "-----------------------\n",
      "Iteration: 5000000\n",
      "Coef: [[5.00162631]\n",
      " [8.92001934]]\n",
      "Loss: 0.292910708149147\n",
      "-----------------------\n",
      "Iteration: 6000000\n",
      "Coef: [[5.00105329]\n",
      " [9.30034142]]\n",
      "Loss: 0.12293376204491402\n",
      "-----------------------\n",
      "Iteration: 7000000\n",
      "Coef: [[5.00068256]\n",
      " [9.54673078]]\n",
      "Loss: 0.05159580426114294\n",
      "-----------------------\n",
      "Iteration: 8000000\n",
      "Coef: [[5.00044226]\n",
      " [9.70635248]]\n",
      "Loss: 0.021654894658997816\n",
      "-----------------------\n",
      "Iteration: 9000000\n",
      "Coef: [[5.0002866 ]\n",
      " [9.80976239]]\n",
      "Loss: 0.009088652342408554\n",
      "-----------------------\n",
      "End Training\n",
      "\n",
      "Number of total iterations: 10000000 \n",
      "Best Loss: 0.0038144233450987893\n",
      "Wall time: 5min 10s\n"
     ]
    }
   ],
   "source": [
    "%%time\n",
    "reg = Linear_Regression(num_iter = 10000000)\n",
    "reg.fit(X,y)\n",
    "print(f'\\nNumber of total iterations: {len(reg.loss)} \\nBest Loss: {min(reg.loss)}')"
   ]
  },
  {
   "cell_type": "markdown",
   "metadata": {},
   "source": [
    "Then, let's try to fit our model with min-max normalization"
   ]
  },
  {
   "cell_type": "code",
   "execution_count": 5,
   "metadata": {},
   "outputs": [
    {
     "name": "stdout",
     "output_type": "stream",
     "text": [
      "Start Training\n",
      "-----------------------\n",
      "Iteration: 0\n",
      "Coef: [[2.79652119]\n",
      " [5.8500908 ]]\n",
      "Loss: 8307220.611644388\n",
      "-----------------------\n",
      "End Training (Early Stopped at iteration 1408)\n",
      "\n",
      "Number of total iterations: 1408 \n",
      "Best Loss: 1.1848817014164433e-26\n",
      "Wall time: 45 ms\n"
     ]
    }
   ],
   "source": [
    "%%time\n",
    "reg_norm = Linear_Regression(num_iter = 10000000, normalize=True)\n",
    "reg_norm.fit(X,y)\n",
    "print(f'\\nNumber of total iterations: {len(reg_norm.loss)} \\nBest Loss: {min(reg_norm.loss)}')"
   ]
  },
  {
   "cell_type": "markdown",
   "metadata": {},
   "source": [
    "Now, let's compare the performance between these two models with/without normalization"
   ]
  },
  {
   "cell_type": "code",
   "execution_count": 6,
   "metadata": {},
   "outputs": [
    {
     "data": {
      "image/png": "[encoded data removed]",
      "text/plain": [
       "<Figure size 640x480 with 1 Axes>"
      ]
     },
     "metadata": {},
     "output_type": "display_data"
    }
   ],
   "source": [
    "plt.plot(np.log(reg.loss), label='Linear Regression w/o Normalization')\n",
    "plt.plot(np.log(reg_norm.loss), label='Linear Regression w/ Normalization')\n",
    "plt.xlabel(\"Number of Iterations\")\n",
    "plt.ylabel(\"Loss (Log Scaled)\")\n",
    "plt.legend()\n",
    "plt.show()"
   ]
  },
  {
   "cell_type": "markdown",
   "metadata": {},
   "source": [
    "<font color='red'>**Question 1: What conclusions can you draw from this experiment? Did normalization help? How and why?**\n",
    "</font>"
   ]
  },
  {
   "cell_type": "markdown",
   "metadata": {},
   "source": [
    " - **Answer:** Normalization helped reduce the loss and sped up the convergence of the model. This is achieved with scaling X to a common range of 0 to 1."
   ]
  },
  {
   "cell_type": "markdown",
   "metadata": {},
   "source": [
    "# Experiment 2: Real-World Data\n",
    "\n",
    "After you complete the first experiment, let's see how our model performs against real-world data.\n",
    "\n",
    "The below dataset is taken from the [Boston Housing dataset](https://www.cs.toronto.edu/~delve/data/boston/bostonDetail.html), where there are 13 features and 1 target variable.\n",
    "\n",
    "0. CRIM - per capita crime rate by town\n",
    "1. ZN - proportion of residential land zoned for lots over 25,000 sq.ft.\n",
    "2. INDUS - proportion of non-retail business acres per town.\n",
    "3. CHAS - Charles River dummy variable (1 if tract bounds river; 0 otherwise)\n",
    "4. NOX - nitric oxides concentration (parts per 10 million)\n",
    "5. RM - average number of rooms per dwelling\n",
    "6. AGE - proportion of owner-occupied units built prior to 1940\n",
    "7. DIS - weighted distances to five Boston employment centres\n",
    "8. RAD - index of accessibility to radial highways\n",
    "9. TAX - full-value property-tax rate per \\$10,000\n",
    "10. PTRATIO - pupil-teacher ratio by town\n",
    "11. B - 1000(Bk - 0.63)^2 where Bk is the proportion of blacks by town\n",
    "12. LSTAT - \\% lower status of the population\n",
    "13. MEDV (**TARGET VARIABLE y**) - Median value of owner-occupied homes in $1000's"
   ]
  },
  {
   "cell_type": "code",
   "execution_count": 7,
   "metadata": {},
   "outputs": [
    {
     "data": {
      "text/html": [
       "<div>\n",
       "<style scoped>\n",
       "    .dataframe tbody tr th:only-of-type {\n",
       "        vertical-align: middle;\n",
       "    }\n",
       "\n",
       "    .dataframe tbody tr th {\n",
       "        vertical-align: top;\n",
       "    }\n",
       "\n",
       "    .dataframe thead th {\n",
       "        text-align: right;\n",
       "    }\n",
       "</style>\n",
       "<table border=\"1\" class=\"dataframe\">\n",
       "  <thead>\n",
       "    <tr style=\"text-align: right;\">\n",
       "      <th></th>\n",
       "      <th>0</th>\n",
       "      <th>1</th>\n",
       "      <th>2</th>\n",
       "      <th>3</th>\n",
       "      <th>4</th>\n",
       "      <th>5</th>\n",
       "      <th>6</th>\n",
       "      <th>7</th>\n",
       "      <th>8</th>\n",
       "      <th>9</th>\n",
       "      <th>10</th>\n",
       "      <th>11</th>\n",
       "      <th>12</th>\n",
       "      <th>13</th>\n",
       "    </tr>\n",
       "  </thead>\n",
       "  <tbody>\n",
       "    <tr>\n",
       "      <th>0</th>\n",
       "      <td>0.00632</td>\n",
       "      <td>18.0</td>\n",
       "      <td>2.31</td>\n",
       "      <td>0</td>\n",
       "      <td>0.538</td>\n",
       "      <td>6.575</td>\n",
       "      <td>65.2</td>\n",
       "      <td>4.0900</td>\n",
       "      <td>1</td>\n",
       "      <td>296.0</td>\n",
       "      <td>15.3</td>\n",
       "      <td>396.90</td>\n",
       "      <td>4.98</td>\n",
       "      <td>24.0</td>\n",
       "    </tr>\n",
       "    <tr>\n",
       "      <th>1</th>\n",
       "      <td>0.02731</td>\n",
       "      <td>0.0</td>\n",
       "      <td>7.07</td>\n",
       "      <td>0</td>\n",
       "      <td>0.469</td>\n",
       "      <td>6.421</td>\n",
       "      <td>78.9</td>\n",
       "      <td>4.9671</td>\n",
       "      <td>2</td>\n",
       "      <td>242.0</td>\n",
       "      <td>17.8</td>\n",
       "      <td>396.90</td>\n",
       "      <td>9.14</td>\n",
       "      <td>21.6</td>\n",
       "    </tr>\n",
       "    <tr>\n",
       "      <th>2</th>\n",
       "      <td>0.02729</td>\n",
       "      <td>0.0</td>\n",
       "      <td>7.07</td>\n",
       "      <td>0</td>\n",
       "      <td>0.469</td>\n",
       "      <td>7.185</td>\n",
       "      <td>61.1</td>\n",
       "      <td>4.9671</td>\n",
       "      <td>2</td>\n",
       "      <td>242.0</td>\n",
       "      <td>17.8</td>\n",
       "      <td>392.83</td>\n",
       "      <td>4.03</td>\n",
       "      <td>34.7</td>\n",
       "    </tr>\n",
       "    <tr>\n",
       "      <th>3</th>\n",
       "      <td>0.03237</td>\n",
       "      <td>0.0</td>\n",
       "      <td>2.18</td>\n",
       "      <td>0</td>\n",
       "      <td>0.458</td>\n",
       "      <td>6.998</td>\n",
       "      <td>45.8</td>\n",
       "      <td>6.0622</td>\n",
       "      <td>3</td>\n",
       "      <td>222.0</td>\n",
       "      <td>18.7</td>\n",
       "      <td>394.63</td>\n",
       "      <td>2.94</td>\n",
       "      <td>33.4</td>\n",
       "    </tr>\n",
       "    <tr>\n",
       "      <th>4</th>\n",
       "      <td>0.06905</td>\n",
       "      <td>0.0</td>\n",
       "      <td>2.18</td>\n",
       "      <td>0</td>\n",
       "      <td>0.458</td>\n",
       "      <td>7.147</td>\n",
       "      <td>54.2</td>\n",
       "      <td>6.0622</td>\n",
       "      <td>3</td>\n",
       "      <td>222.0</td>\n",
       "      <td>18.7</td>\n",
       "      <td>396.90</td>\n",
       "      <td>5.33</td>\n",
       "      <td>36.2</td>\n",
       "    </tr>\n",
       "  </tbody>\n",
       "</table>\n",
       "</div>"
      ],
      "text/plain": [
       "        0     1     2   3      4      5     6       7   8      9     10  \\\n",
       "0  0.00632  18.0  2.31   0  0.538  6.575  65.2  4.0900   1  296.0  15.3   \n",
       "1  0.02731   0.0  7.07   0  0.469  6.421  78.9  4.9671   2  242.0  17.8   \n",
       "2  0.02729   0.0  7.07   0  0.469  7.185  61.1  4.9671   2  242.0  17.8   \n",
       "3  0.03237   0.0  2.18   0  0.458  6.998  45.8  6.0622   3  222.0  18.7   \n",
       "4  0.06905   0.0  2.18   0  0.458  7.147  54.2  6.0622   3  222.0  18.7   \n",
       "\n",
       "       11    12    13  \n",
       "0  396.90  4.98  24.0  \n",
       "1  396.90  9.14  21.6  \n",
       "2  392.83  4.03  34.7  \n",
       "3  394.63  2.94  33.4  \n",
       "4  396.90  5.33  36.2  "
      ]
     },
     "execution_count": 7,
     "metadata": {},
     "output_type": "execute_result"
    }
   ],
   "source": [
    "url = 'https://archive.ics.uci.edu/ml/machine-learning-databases/housing/housing.data'\n",
    "df = pd.read_csv(url, delimiter='\\s+', header=None)\n",
    "df.head()"
   ]
  },
  {
   "cell_type": "code",
   "execution_count": 8,
   "metadata": {},
   "outputs": [],
   "source": [
    "X, y = np.array(df.drop(13, axis=1)), np.array(df[13])"
   ]
  },
  {
   "cell_type": "code",
   "execution_count": 9,
   "metadata": {},
   "outputs": [
    {
     "data": {
      "text/plain": [
       "array([6.3200e-03, 0.0000e+00, 4.6000e-01, 0.0000e+00, 3.8500e-01,\n",
       "       3.5610e+00, 2.9000e+00, 1.1296e+00, 1.0000e+00, 1.8700e+02,\n",
       "       1.2600e+01, 3.2000e-01, 1.7300e+00])"
      ]
     },
     "execution_count": 9,
     "metadata": {},
     "output_type": "execute_result"
    }
   ],
   "source": [
    "X.min(axis = 0)"
   ]
  },
  {
   "cell_type": "markdown",
   "metadata": {},
   "source": [
    "Now, let's use the data to fit our model"
   ]
  },
  {
   "cell_type": "code",
   "execution_count": 10,
   "metadata": {
    "scrolled": false
   },
   "outputs": [
    {
     "name": "stdout",
     "output_type": "stream",
     "text": [
      "Start Training\n",
      "-----------------------\n",
      "Iteration: 0\n",
      "Coef: [[-0.90536686]\n",
      " [-0.0890625 ]\n",
      " [-0.39168703]\n",
      " [-0.69098511]\n",
      " [ 0.71218564]\n",
      " [ 0.21149243]\n",
      " [-0.57207926]\n",
      " [ 0.56163157]\n",
      " [-0.62081711]\n",
      " [-0.94445084]\n",
      " [-0.35084591]\n",
      " [-0.68094058]\n",
      " [-0.93568829]\n",
      " [-0.49002283]]\n",
      "Loss: 697.3252320113309\n",
      "-----------------------\n",
      "End Training (Early Stopped at iteration 23983)\n",
      "\n",
      "Number of total iterations: 23983 \n",
      "Best Loss: 21.89483118173017\n",
      "Wall time: 1.09 s\n"
     ]
    }
   ],
   "source": [
    "%%time\n",
    "reg = Linear_Regression(num_iter=100000, normalize=True)\n",
    "reg.fit(X,y)\n",
    "print(f'\\nNumber of total iterations: {len(reg.loss)} \\nBest Loss: {min(reg.loss)}')"
   ]
  },
  {
   "cell_type": "markdown",
   "metadata": {},
   "source": [
    "Let's visualize the loss curve of our model on this dataset"
   ]
  },
  {
   "cell_type": "code",
   "execution_count": 11,
   "metadata": {},
   "outputs": [
    {
     "data": {
      "image/png": "[encoded data removed]",
      "text/plain": [
       "<Figure size 640x480 with 1 Axes>"
      ]
     },
     "metadata": {},
     "output_type": "display_data"
    }
   ],
   "source": [
    "plt.plot(np.log(reg.loss), label='Linear Regression w/ Normalization')\n",
    "plt.xlabel(\"Number of Iterations\")\n",
    "plt.ylabel(\"Loss (Log Scaled)\")\n",
    "plt.legend()\n",
    "plt.show()"
   ]
  },
  {
   "cell_type": "markdown",
   "metadata": {},
   "source": [
    "To verify our model, we can compare our model's performance with respect to the linear regression model implemented in scikit-learn (a.k.a. `sklearn`). Scikit-learn is a popular machine learning library in python that provides many classical machine learning algorithms for many different tasks (regression, classification, clustering, etc). It also contains utility functions for preprocessing, calculating metrics, etc.\n",
    "\n",
    "If you implemented your model correctly, you should get a very similar output (difference < 1e-3) for RMSE (Root Mean Squared Error) compared to sklearn linear regressor's RMSE."
   ]
  },
  {
   "cell_type": "code",
   "execution_count": 14,
   "metadata": {},
   "outputs": [
    {
     "name": "stdout",
     "output_type": "stream",
     "text": [
      "Our Model's RMSE: 4.679191295697384\n",
      "Sklearn Model's RMSE: 4.679191295697283\n"
     ]
    }
   ],
   "source": [
    "m, n = df.shape\n",
    "X_norm = X.copy()\n",
    "\n",
    "# TODO: normalize X using the procedure in your model implementation\n",
    "X_norm_max = np.zeros((1, X_norm.shape[1]))\n",
    "X_norm_min = np.zeros((1, X_norm.shape[1]))\n",
    "for i in range(X_norm.shape[1]):\n",
    "    X_norm_max[:, i] = X_norm[:, i].max()\n",
    "    X_norm_min[:, i] = X_norm[:, i].min()\n",
    "X_norm = (X_norm - X_norm_min) / (X_norm_max - X_norm_min)\n",
    "\n",
    "# Let's build a model with sklearn\n",
    "lr = LinearRegression()\n",
    "lr.fit(X_norm,y)\n",
    "\n",
    "#Compare Root Mean Squared Error.\n",
    "print(f\"Our Model's RMSE: {(sum((reg.predict(X).flatten() - y)**2)/m)**0.5}\\\n",
    "\\nSklearn Model's RMSE: {(sum((lr.predict(X_norm) - y)**2)/m)**0.5}\")"
   ]
  },
  {
   "cell_type": "markdown",
   "metadata": {},
   "source": [
    "Now, let's have some tweaks with our custom model. First, let's see if an interception (i.e. bias) really helps with our model's performance on the real-world data."
   ]
  },
  {
   "cell_type": "code",
   "execution_count": 15,
   "metadata": {},
   "outputs": [
    {
     "name": "stdout",
     "output_type": "stream",
     "text": [
      "Wall time: 1.63 s\n"
     ]
    }
   ],
   "source": [
    "%%time\n",
    "%%capture\n",
    "reg_bias = Linear_Regression(num_iter=100000, normalize=True, intercept=True)\n",
    "reg_no_bias = Linear_Regression(num_iter=100000, normalize=True, intercept=False)\n",
    "reg_bias.fit(X,y)\n",
    "reg_no_bias.fit(X,y)"
   ]
  },
  {
   "cell_type": "code",
   "execution_count": 16,
   "metadata": {},
   "outputs": [
    {
     "name": "stdout",
     "output_type": "stream",
     "text": [
      "Our Model's RMSE with Interception: 4.679191295697394\n",
      "Our Model's RMSE without Interception: 5.241354231005259\n"
     ]
    }
   ],
   "source": [
    "print(f\"Our Model's RMSE with Interception: {(sum((reg_bias.predict(X).flatten() - y)**2)/m)**0.5}\\\n",
    "\\nOur Model's RMSE without Interception: {(sum((reg_no_bias.predict(X).flatten() - y)**2)/m)**0.5}\")"
   ]
  },
  {
   "cell_type": "markdown",
   "metadata": {},
   "source": [
    "<font color='red'>**Question 2: What conclusions can you make here? Does the addition of an intercept make our model perform better?**</font>"
   ]
  },
  {
   "cell_type": "markdown",
   "metadata": {},
   "source": [
    "* **Answer:** The addition of an intercept makes our model perform better. Having an intercept allows the model to capture offset of inputs."
   ]
  },
  {
   "cell_type": "markdown",
   "metadata": {},
   "source": [
    "Second, let's see if regularization can further help with decreasing our model's loss. Since regularization deals with the problem of overfitting, we need to check our model's performance on the \"unseen\" data. Here, we will split our data into two parts: `training set` and `test set`, where our model will be fit with the training set, and the performance will be evaluated based on the test set."
   ]
  },
  {
   "cell_type": "code",
   "execution_count": 17,
   "metadata": {},
   "outputs": [],
   "source": [
    "X_train, X_test, y_train, y_test = train_test_split(X_norm, y, test_size=0.33, random_state=42)\n",
    "m, n = X_test.shape"
   ]
  },
  {
   "cell_type": "code",
   "execution_count": 18,
   "metadata": {},
   "outputs": [
    {
     "name": "stdout",
     "output_type": "stream",
     "text": [
      "Wall time: 2.83 s\n"
     ]
    }
   ],
   "source": [
    "%%time\n",
    "%%capture\n",
    "reg = Linear_Regression(num_iter=100000, normalize=True)\n",
    "reg.fit(X_train, y_train)\n",
    "# Feel free to tune the lambda hyperparameter for better performance when penalty (regularization) is applied\n",
    "reg_l1 = Linear_Regression(num_iter=100000, normalize=True, penalty='l1')\n",
    "reg_l1.fit(X_train, y_train)\n",
    "reg_l2 = Linear_Regression(num_iter=100000, normalize=True, penalty='l2')\n",
    "reg_l2.fit(X_train, y_train)"
   ]
  },
  {
   "cell_type": "code",
   "execution_count": 19,
   "metadata": {},
   "outputs": [
    {
     "name": "stdout",
     "output_type": "stream",
     "text": [
      "Our Model's RMSE: 4.552364546330808\n",
      "Our L1 Regularized Model's RMSE: 4.5522460759742875\n",
      "Our L2 Regularized Model's RMSE: 4.570001741742377\n"
     ]
    }
   ],
   "source": [
    "print(f\"Our Model's RMSE: {(sum((reg.predict(X_test).flatten() - y_test)**2)/m)**0.5}\")\n",
    "print(f\"Our L1 Regularized Model's RMSE: {(sum((reg_l1.predict(X_test).flatten() - y_test)**2)/m)**0.5}\")\n",
    "print(f\"Our L2 Regularized Model's RMSE: {(sum((reg_l2.predict(X_test).flatten() - y_test)**2)/m)**0.5}\")"
   ]
  },
  {
   "cell_type": "markdown",
   "metadata": {},
   "source": [
    "<font color='red'> **Question 3: What conclusions can you make here? Does the addition of a regularization make our model perform better on the test set? Why does the addition of it make our model perform better/worse?** </font>"
   ]
  },
  {
   "cell_type": "markdown",
   "metadata": {},
   "source": [
    "* **Answer:** L1 regularization made our model perform slightly better on test set. While L2 regularization made our model perform slightly worse. Addition of regularization could improve our model by preventing overfitting or underfitting. However, it can also make performance worse if the incorrect or unfit regularization constant is used."
   ]
  },
  {
   "cell_type": "markdown",
   "metadata": {},
   "source": [
    "Finally, let's see the role of an adaptive learning rate. Let's see our model's performance when adaptive learning rate is disabled."
   ]
  },
  {
   "cell_type": "code",
   "execution_count": 20,
   "metadata": {},
   "outputs": [],
   "source": [
    "m, n = X.shape"
   ]
  },
  {
   "cell_type": "code",
   "execution_count": 21,
   "metadata": {},
   "outputs": [
    {
     "name": "stdout",
     "output_type": "stream",
     "text": [
      "Wall time: 3.95 s\n"
     ]
    }
   ],
   "source": [
    "%%time\n",
    "%%capture\n",
    "reg = Linear_Regression(num_iter=100000, normalize=True)\n",
    "reg.fit(X, y)\n",
    "reg_alt = Linear_Regression(num_iter=100000, normalize=True, adaptive=False)\n",
    "reg_alt.fit(X, y)"
   ]
  },
  {
   "cell_type": "code",
   "execution_count": 22,
   "metadata": {},
   "outputs": [
    {
     "name": "stdout",
     "output_type": "stream",
     "text": [
      "Our Model's RMSE with Adaptive LR: 4.679191295697375\n",
      "Our Model's RMSE without Adaptive LR: 4.732083468143807\n"
     ]
    }
   ],
   "source": [
    "print(f\"Our Model's RMSE with Adaptive LR: {(sum((reg.predict(X).flatten() - y)**2)/m)**0.5}\\\n",
    "\\nOur Model's RMSE without Adaptive LR: {(sum((reg_alt.predict(X).flatten() - y)**2)/m)**0.5}\")"
   ]
  },
  {
   "cell_type": "markdown",
   "metadata": {},
   "source": [
    "<font color='red'> **Question 4: What conclusions can you make here? Does the addition of an adaptive learning rate make our model perform better? What are your reasonings here?**</font>"
   ]
  },
  {
   "cell_type": "markdown",
   "metadata": {},
   "source": [
    "* **Answer:** Adaptive learning rate makes our model perform better because it prevents overshooting or undershooting during gradient descent."
   ]
  }
 ],
 "metadata": {
  "kernelspec": {
   "display_name": "Python 3 (ipykernel)",
   "language": "python",
   "name": "python3"
  },
  "language_info": {
   "codemirror_mode": {
    "name": "ipython",
    "version": 3
   },
   "file_extension": ".py",
   "mimetype": "text/x-python",
   "name": "python",
   "nbconvert_exporter": "python",
   "pygments_lexer": "ipython3",
   "version": "3.9.13"
  }
 },
 "nbformat": 4,
 "nbformat_minor": 4
}
